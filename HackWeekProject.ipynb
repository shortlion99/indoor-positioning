{
 "cells": [
  {
   "cell_type": "code",
   "execution_count": 96,
   "metadata": {},
   "outputs": [],
   "source": [
    "import pandas as pd\n",
    "import numpy as np\n",
    "import matplotlib.pyplot as plt\n",
    "from sklearn.ensemble import GradientBoostingRegressor\n",
    "from sklearn.neighbors import KNeighborsRegressor\n",
    "from sklearn.multioutput import MultiOutputRegressor\n",
    "from sklearn.linear_model import LinearRegression\n",
    "from sklearn.model_selection import train_test_split, cross_val_score, cross_validate, KFold, GridSearchCV\n",
    "from sklearn.metrics import make_scorer, mean_squared_error, mean_absolute_error\n",
    "from sklearn.preprocessing import PolynomialFeatures\n",
    "from sklearn.pipeline import Pipeline\n",
    "from sklearn.ensemble import StackingRegressor\n",
    "from sklearn.linear_model import Ridge"
   ]
  },
  {
   "cell_type": "code",
   "execution_count": 97,
   "metadata": {},
   "outputs": [],
   "source": [
    "def convert_position_to_numeric(pos):\n",
    "    letter_part = pos[0]\n",
    "    number_part = pos[1:]\n",
    "\n",
    "    column = ord(letter_part.upper()) - ord('A') + 1\n",
    "    row = int(number_part)\n",
    "\n",
    "    return column, row"
   ]
  },
  {
   "cell_type": "code",
   "execution_count": 98,
   "metadata": {},
   "outputs": [],
   "source": [
    "df = pd.read_csv(\"iBeacon_RSSI_Labeled.csv\")\n",
    "df[['column', 'row']] = df['location'].apply(lambda x: pd.Series(convert_position_to_numeric(x)))\n",
    "df.drop('location', axis=1, inplace=True)"
   ]
  },
  {
   "cell_type": "code",
   "execution_count": 99,
   "metadata": {},
   "outputs": [],
   "source": [
    "beacon_positions_raw = {\n",
    "    'beacon1': \"F09\",\n",
    "    'beacon2': \"J04\",\n",
    "    'beacon3': \"N04\",\n",
    "    'beacon4': \"S05\",\n",
    "    'beacon5': \"J07\",\n",
    "    'beacon6': \"N07\",\n",
    "    'beacon7': \"S07\",\n",
    "    'beacon8': \"J10\",\n",
    "    'beacon9': \"D09\",\n",
    "    'beacon10': \"J15\",\n",
    "    'beacon11': \"N15\",\n",
    "    'beacon12': \"R15\",\n",
    "    'beacon13': \"W13\"\n",
    "}\n",
    "\n",
    "beacon_positions_numeric = {beacon: convert_position_to_numeric(pos) for beacon, pos in beacon_positions_raw.items()}\n",
    "beacon_df = pd.DataFrame.from_dict(beacon_positions_numeric, orient='index', columns=['column', 'row'])"
   ]
  },
  {
   "cell_type": "code",
   "execution_count": 100,
   "metadata": {},
   "outputs": [],
   "source": [
    "class KalmanFilter:\n",
    "    def __init__(self, process_variance=1e-5, measurement_variance=0.1**2):\n",
    "        self.process_variance = process_variance  \n",
    "        self.measurement_variance = measurement_variance  \n",
    "        self.estimated_measurement = 0.0 \n",
    "        self.error_covariance = 1.0  \n",
    "\n",
    "    def update(self, measurement):\n",
    "        kalman_gain = self.error_covariance / (self.error_covariance + self.measurement_variance)\n",
    "        self.estimated_measurement += kalman_gain * (measurement - self.estimated_measurement)\n",
    "        self.error_covariance = (1 - kalman_gain) * self.error_covariance\n",
    "        return self.estimated_measurement"
   ]
  },
  {
   "cell_type": "code",
   "execution_count": 101,
   "metadata": {},
   "outputs": [],
   "source": [
    "beacons = [col for col in df.columns if col.startswith('b')]\n",
    "kalman_filters = {beacon: KalmanFilter() for beacon in beacons}\n",
    "\n",
    "# Apply Kalman filter smoothing to each RSSI value\n",
    "for beacon in beacons:\n",
    "    df[beacon] = df[beacon].apply(lambda rssi: kalman_filters[beacon].update(rssi) if not np.isnan(rssi) else rssi)"
   ]
  },
  {
   "cell_type": "code",
   "execution_count": 102,
   "metadata": {},
   "outputs": [],
   "source": [
    "# A custom scoring function to calculate accuracy within 1 grid unit\n",
    "def accuracy_within_radius(y_true, y_pred, radius=1):\n",
    "    distances = np.sqrt((y_true[:, 0] - y_pred[:, 0]) ** 2 + (y_true[:, 1] - y_pred[:, 1]) ** 2)\n",
    "    within_radius = distances <= radius\n",
    "    accuracy = np.mean(within_radius) * 100  # Percentage of predictions within the radius\n",
    "    return accuracy\n",
    "\n",
    "# Custom scorer for accuracy within 1 grid unit\n",
    "accuracy_scorer = make_scorer(accuracy_within_radius, greater_is_better=True, radius=1)"
   ]
  },
  {
   "cell_type": "code",
   "execution_count": 103,
   "metadata": {},
   "outputs": [],
   "source": [
    "# Cross-validation setup\n",
    "cv = KFold(n_splits=5, shuffle=True, random_state=42)\n",
    "scoring = make_scorer(mean_squared_error)\n",
    "X = df[beacons]\n",
    "y = df[['column', 'row']]\n",
    "\n",
    "# Split the data into training and testing sets\n",
    "X_train, X_test, y_train, y_test = train_test_split(X, y, test_size=0.3, random_state=42)"
   ]
  },
  {
   "cell_type": "code",
   "execution_count": 104,
   "metadata": {},
   "outputs": [],
   "source": [
    "# degrees = [1,2,3,4]\n",
    "# mean_mse_scores = []\n",
    "\n",
    "# # Evaluate polynomial degrees using a simpler model (Linear Regression)\n",
    "# for degree in degrees:\n",
    "#     pipeline = Pipeline([\n",
    "#         ('poly', PolynomialFeatures(degree=degree)),\n",
    "#         ('linear', MultiOutputRegressor(GradientBoostingRegressor(random_state=42)))\n",
    "#     ])\n",
    "    \n",
    "#     mse_scores = cross_val_score(pipeline, X_train, y_train, cv=cv, scoring=scoring)\n",
    "#     mean_mse = np.mean(mse_scores)\n",
    "#     mean_mse_scores.append(mean_mse)\n",
    "#     print(f\"Degree: {degree}, Mean MSE: {mean_mse:.2f}\")\n",
    "\n",
    "# # Select the best polynomial degree\n",
    "# best_degree_gbr = degrees[np.argmin(mean_mse_scores)]\n",
    "# print(f\"Best polynomial degree based on cross-validation with GBR: {best_degree_gbr}\")"
   ]
  },
  {
   "cell_type": "code",
   "execution_count": 110,
   "metadata": {},
   "outputs": [],
   "source": [
    "best_degree_gbr = 2 # Use 2 as it balances complexity and run time\n",
    "\n",
    "pipeline_gbr = Pipeline([\n",
    "    ('poly', PolynomialFeatures(degree=best_degree_gbr)),  \n",
    "    ('gbr', MultiOutputRegressor(GradientBoostingRegressor(random_state=42)))\n",
    "])\n",
    "\n",
    "param_grid_gbr = {\n",
    "    'gbr__estimator__n_estimators': [200, 300, 400],\n",
    "    'gbr__estimator__learning_rate': [0.05, 0.1],\n",
    "    'gbr__estimator__max_depth': [3, 5, 7]\n",
    "}\n",
    "\n",
    "grid_search_gbr = GridSearchCV(estimator=pipeline_gbr, param_grid=param_grid_gbr, cv=cv, scoring='neg_mean_squared_error')\n",
    "grid_search_gbr.fit(X_train, y_train)\n",
    "\n",
    "best_params_gbr = grid_search_gbr.best_params_\n",
    "print(f\"Best parameters for GBR found: {best_params_gbr}\")\n",
    "\n",
    "# Best parameters for GBR found: {'gbr__estimator__learning_rate': 0.1, 'gbr__estimator__max_depth': 5, 'gbr__estimator__n_estimators': 400}\n"
   ]
  },
  {
   "cell_type": "code",
   "execution_count": 109,
   "metadata": {},
   "outputs": [
    {
     "name": "stdout",
     "output_type": "stream",
     "text": [
      "Final Gradient Boosting Regressor - MSE on Test Set: 0.96\n",
      "Test Set Accuracy within 1 unit square (GBR): 83.10%\n"
     ]
    }
   ],
   "source": [
    "# Best degree and parameters for GBR found from previous grid search\n",
    "best_degree_gbr = 2\n",
    "best_learning_rate = 0.05\n",
    "best_max_depth = 5\n",
    "best_n_estimators = 400\n",
    "\n",
    "pipeline_gbr_final = Pipeline([\n",
    "    ('poly', PolynomialFeatures(degree=best_degree_gbr)),  \n",
    "    ('gbr', MultiOutputRegressor(GradientBoostingRegressor(\n",
    "        n_estimators=best_n_estimators,\n",
    "        learning_rate=best_learning_rate,\n",
    "        max_depth=best_max_depth,\n",
    "        random_state=42\n",
    "    )))\n",
    "])\n",
    "\n",
    "pipeline_gbr_final.fit(X_train, y_train)\n",
    "\n",
    "# Predict using the final model on the test data\n",
    "y_pred_gbr_final = pipeline_gbr_final.predict(X_test)\n",
    "\n",
    "# Evaluate the final model\n",
    "mse_gbr_final = mean_squared_error(y_test, y_pred_gbr_final)\n",
    "print(f'Final Gradient Boosting Regressor - MSE on Test Set: {mse_gbr_final:.2f}')\n",
    "\n",
    "# Optionally, calculate accuracy within 1 unit\n",
    "accuracy_within_1m_gbr = accuracy_within_radius(y_test.to_numpy(), y_pred_gbr_final, radius=1)\n",
    "print(f'Test Set Accuracy within 1 unit square (GBR): {accuracy_within_1m_gbr:.2f}%')\n"
   ]
  },
  {
   "cell_type": "code",
   "execution_count": 107,
   "metadata": {},
   "outputs": [
    {
     "data": {
      "image/png": "[encoded data removed]",
      "text/plain": [
       "<Figure size 1000x600 with 1 Axes>"
      ]
     },
     "metadata": {},
     "output_type": "display_data"
    },
    {
     "name": "stdout",
     "output_type": "stream",
     "text": [
      "Best K value: 2 with MSE: 0.85\n"
     ]
    },
    {
     "ename": "NotFittedError",
     "evalue": "This MultiOutputRegressor instance is not fitted yet. Call 'fit' with appropriate arguments before using this estimator.",
     "output_type": "error",
     "traceback": [
      "\u001b[0;31m---------------------------------------------------------------------------\u001b[0m",
      "\u001b[0;31mNotFittedError\u001b[0m                            Traceback (most recent call last)",
      "Cell \u001b[0;32mIn[107], line 24\u001b[0m\n\u001b[1;32m     20\u001b[0m \u001b[38;5;28mprint\u001b[39m(\u001b[38;5;124mf\u001b[39m\u001b[38;5;124m\"\u001b[39m\u001b[38;5;124mBest K value: \u001b[39m\u001b[38;5;132;01m{\u001b[39;00mbest_k\u001b[38;5;132;01m}\u001b[39;00m\u001b[38;5;124m with MSE: \u001b[39m\u001b[38;5;132;01m{\u001b[39;00m\u001b[38;5;28mmin\u001b[39m(mse_scores)\u001b[38;5;132;01m:\u001b[39;00m\u001b[38;5;124m.2f\u001b[39m\u001b[38;5;132;01m}\u001b[39;00m\u001b[38;5;124m\"\u001b[39m)\n\u001b[1;32m     22\u001b[0m multi_knn \u001b[38;5;241m=\u001b[39m MultiOutputRegressor(KNeighborsRegressor(n_neighbors\u001b[38;5;241m=\u001b[39mbest_k, weights\u001b[38;5;241m=\u001b[39m\u001b[38;5;124m'\u001b[39m\u001b[38;5;124mdistance\u001b[39m\u001b[38;5;124m'\u001b[39m))\n\u001b[0;32m---> 24\u001b[0m y_pred_knn_multi \u001b[38;5;241m=\u001b[39m \u001b[43mmulti_knn\u001b[49m\u001b[38;5;241;43m.\u001b[39;49m\u001b[43mpredict\u001b[49m\u001b[43m(\u001b[49m\u001b[43mX_test\u001b[49m\u001b[43m)\u001b[49m\n\u001b[1;32m     25\u001b[0m mse_knn \u001b[38;5;241m=\u001b[39m mean_squared_error(y_test, y_pred_knn_multi)\n\u001b[1;32m     26\u001b[0m \u001b[38;5;28mprint\u001b[39m(\u001b[38;5;124mf\u001b[39m\u001b[38;5;124m'\u001b[39m\u001b[38;5;124mKNN MSE on Test Set: \u001b[39m\u001b[38;5;132;01m{\u001b[39;00mmse_knn\u001b[38;5;132;01m:\u001b[39;00m\u001b[38;5;124m.2f\u001b[39m\u001b[38;5;132;01m}\u001b[39;00m\u001b[38;5;124m'\u001b[39m)\n",
      "File \u001b[0;32m/Library/Frameworks/Python.framework/Versions/3.12/lib/python3.12/site-packages/sklearn/multioutput.py:306\u001b[0m, in \u001b[0;36m_MultiOutputEstimator.predict\u001b[0;34m(self, X)\u001b[0m\n\u001b[1;32m    292\u001b[0m \u001b[38;5;28;01mdef\u001b[39;00m \u001b[38;5;21mpredict\u001b[39m(\u001b[38;5;28mself\u001b[39m, X):\n\u001b[1;32m    293\u001b[0m \u001b[38;5;250m    \u001b[39m\u001b[38;5;124;03m\"\"\"Predict multi-output variable using model for each target variable.\u001b[39;00m\n\u001b[1;32m    294\u001b[0m \n\u001b[1;32m    295\u001b[0m \u001b[38;5;124;03m    Parameters\u001b[39;00m\n\u001b[0;32m   (...)\u001b[0m\n\u001b[1;32m    304\u001b[0m \u001b[38;5;124;03m        Note: Separate models are generated for each predictor.\u001b[39;00m\n\u001b[1;32m    305\u001b[0m \u001b[38;5;124;03m    \"\"\"\u001b[39;00m\n\u001b[0;32m--> 306\u001b[0m     \u001b[43mcheck_is_fitted\u001b[49m\u001b[43m(\u001b[49m\u001b[38;5;28;43mself\u001b[39;49m\u001b[43m)\u001b[49m\n\u001b[1;32m    307\u001b[0m     \u001b[38;5;28;01mif\u001b[39;00m \u001b[38;5;129;01mnot\u001b[39;00m \u001b[38;5;28mhasattr\u001b[39m(\u001b[38;5;28mself\u001b[39m\u001b[38;5;241m.\u001b[39mestimators_[\u001b[38;5;241m0\u001b[39m], \u001b[38;5;124m\"\u001b[39m\u001b[38;5;124mpredict\u001b[39m\u001b[38;5;124m\"\u001b[39m):\n\u001b[1;32m    308\u001b[0m         \u001b[38;5;28;01mraise\u001b[39;00m \u001b[38;5;167;01mValueError\u001b[39;00m(\u001b[38;5;124m\"\u001b[39m\u001b[38;5;124mThe base estimator should implement a predict method\u001b[39m\u001b[38;5;124m\"\u001b[39m)\n",
      "File \u001b[0;32m/Library/Frameworks/Python.framework/Versions/3.12/lib/python3.12/site-packages/sklearn/utils/validation.py:1661\u001b[0m, in \u001b[0;36mcheck_is_fitted\u001b[0;34m(estimator, attributes, msg, all_or_any)\u001b[0m\n\u001b[1;32m   1658\u001b[0m     \u001b[38;5;28;01mraise\u001b[39;00m \u001b[38;5;167;01mTypeError\u001b[39;00m(\u001b[38;5;124m\"\u001b[39m\u001b[38;5;132;01m%s\u001b[39;00m\u001b[38;5;124m is not an estimator instance.\u001b[39m\u001b[38;5;124m\"\u001b[39m \u001b[38;5;241m%\u001b[39m (estimator))\n\u001b[1;32m   1660\u001b[0m \u001b[38;5;28;01mif\u001b[39;00m \u001b[38;5;129;01mnot\u001b[39;00m _is_fitted(estimator, attributes, all_or_any):\n\u001b[0;32m-> 1661\u001b[0m     \u001b[38;5;28;01mraise\u001b[39;00m NotFittedError(msg \u001b[38;5;241m%\u001b[39m {\u001b[38;5;124m\"\u001b[39m\u001b[38;5;124mname\u001b[39m\u001b[38;5;124m\"\u001b[39m: \u001b[38;5;28mtype\u001b[39m(estimator)\u001b[38;5;241m.\u001b[39m\u001b[38;5;18m__name__\u001b[39m})\n",
      "\u001b[0;31mNotFittedError\u001b[0m: This MultiOutputRegressor instance is not fitted yet. Call 'fit' with appropriate arguments before using this estimator."
     ]
    }
   ],
   "source": [
    "k_values = [i for i in range(1, 11)]  # Range from 1 to 10\n",
    "mse_scores = []\n",
    "\n",
    "for k in k_values:\n",
    "    knn = MultiOutputRegressor(KNeighborsRegressor(n_neighbors=k, weights='distance'))\n",
    "    scores = cross_val_score(knn, X_train, y_train, cv=5, scoring='neg_mean_squared_error')\n",
    "    mse_scores.append(-np.mean(scores))  # Convert negative MSE to positive MSE\n",
    "\n",
    "# Plotting k values vs MSE\n",
    "plt.figure(figsize=(10, 6))\n",
    "plt.plot(k_values, mse_scores, marker='o', linestyle='-')\n",
    "plt.title('MSE vs. K value for KNeighborsRegressor')\n",
    "plt.xlabel('Number of Neighbors (K)')\n",
    "plt.ylabel('Mean Squared Error (MSE)')\n",
    "plt.grid()\n",
    "plt.show()\n",
    "\n",
    "# Find the best k value based on the lowest MSE\n",
    "best_k = k_values[np.argmin(mse_scores)]\n",
    "print(f\"Best K value: {best_k} with MSE: {min(mse_scores):.2f}\")\n",
    "\n",
    "multi_knn = MultiOutputRegressor(KNeighborsRegressor(n_neighbors=best_k, weights='distance'))\n",
    "\n",
    "y_pred_knn_multi = multi_knn.predict(X_test)\n",
    "mse_knn = mean_squared_error(y_test, y_pred_knn_multi)\n",
    "print(f'KNN MSE on Test Set: {mse_knn:.2f}')\n",
    "\n",
    "accuracy_within_1m_knn = accuracy_within_radius(y_test.to_numpy(), y_pred_knn_multi, radius=1)  \n",
    "print(f'Test Set Accuracy within 1 unit square (KNN): {accuracy_within_1m_knn:.2f}%')"
   ]
  },
  {
   "cell_type": "code",
   "execution_count": null,
   "metadata": {},
   "outputs": [],
   "source": [
    "# Visualize predictions vs. actuals for GBR\n",
    "plt.scatter(y_test['column'], y_test['row'], color='blue', label='Actual')\n",
    "plt.scatter(y_pred_gbr_multi[:, 0], y_pred_gbr_multi[:, 1], color='red', marker='o', label='Predicted (GBR)')\n",
    "plt.title('Actual vs Predicted Positions (Gradient Boosting)')\n",
    "plt.xlabel('Column')\n",
    "plt.ylabel('Row')\n",
    "plt.legend()\n",
    "plt.show()\n",
    "\n",
    "# Visualize predictions vs. actuals for KNN\n",
    "plt.scatter(y_test['column'], y_test['row'], color='blue', label='Actual')\n",
    "plt.scatter(y_pred_knn_multi[:, 0], y_pred_knn_multi[:, 1], color='green', marker='o', label='Predicted (KNN)')\n",
    "plt.title('Actual vs Predicted Positions (KNN)')\n",
    "plt.xlabel('Column')\n",
    "plt.ylabel('Row')\n",
    "plt.legend()\n",
    "plt.show()"
   ]
  }
 ],
 "metadata": {
  "kernelspec": {
   "display_name": "Python 3",
   "language": "python",
   "name": "python3"
  },
  "language_info": {
   "codemirror_mode": {
    "name": "ipython",
    "version": 3
   },
   "file_extension": ".py",
   "mimetype": "text/x-python",
   "name": "python",
   "nbconvert_exporter": "python",
   "pygments_lexer": "ipython3",
   "version": "3.12.5"
  }
 },
 "nbformat": 4,
 "nbformat_minor": 2
}
